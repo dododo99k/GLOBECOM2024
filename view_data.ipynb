{
 "cells": [
  {
   "cell_type": "code",
   "execution_count": 50,
   "metadata": {},
   "outputs": [],
   "source": [
    "import numpy as np\n",
    "import pickle"
   ]
  },
  {
   "cell_type": "code",
   "execution_count": 53,
   "metadata": {},
   "outputs": [
    {
     "name": "stdout",
     "output_type": "stream",
     "text": [
      "27\n"
     ]
    }
   ],
   "source": [
    "file_name ='all tasks, ego V density 0.03, time length 1000, mode pso.pkl'\n",
    "with open(file_name,'rb') as file:\n",
    "    logs  = pickle.loads(file.read())\n",
    "print(len(logs))"
   ]
  },
  {
   "cell_type": "code",
   "execution_count": 54,
   "metadata": {},
   "outputs": [
    {
     "name": "stdout",
     "output_type": "stream",
     "text": [
      "63\n"
     ]
    }
   ],
   "source": [
    "file_name ='finished tasks, ego V density 0.03, time length 1000, mode pso.pkl'\n",
    "with open(file_name,'rb') as file:\n",
    "    finsih_logs  = pickle.loads(file.read())\n",
    "print(len(finsih_logs))"
   ]
  },
  {
   "cell_type": "code",
   "execution_count": 52,
   "metadata": {},
   "outputs": [
    {
     "name": "stdout",
     "output_type": "stream",
     "text": [
      "27\n"
     ]
    }
   ],
   "source": [
    "print(len(logs))"
   ]
  },
  {
   "cell_type": "code",
   "execution_count": 55,
   "metadata": {},
   "outputs": [
    {
     "name": "stdout",
     "output_type": "stream",
     "text": [
      "105\n",
      "105\n",
      "140\n",
      "118\n",
      "192\n",
      "264\n",
      "196\n",
      "80\n",
      "222\n",
      "293\n",
      "74\n",
      "73\n",
      "262\n",
      "370\n",
      "279\n",
      "404\n",
      "337\n",
      "420\n",
      "454\n",
      "354\n",
      "208\n",
      "463\n",
      "485\n",
      "249\n",
      "501\n",
      "452\n",
      "218\n",
      "238\n",
      "592\n",
      "301\n",
      "409\n",
      "655\n",
      "595\n",
      "494\n",
      "752\n",
      "200\n",
      "716\n",
      "523\n",
      "770\n",
      "189\n",
      "270\n",
      "254\n",
      "157\n",
      "343\n",
      "307\n",
      "330\n",
      "333\n",
      "79\n",
      "190\n",
      "190\n",
      "302\n",
      "64\n",
      "525\n",
      "259\n",
      "165\n",
      "526\n",
      "513\n",
      "195\n",
      "148\n",
      "172\n",
      "172\n",
      "323\n",
      "197\n",
      "max time 770\n"
     ]
    }
   ],
   "source": [
    "max_time = 0\n",
    "for log in finsih_logs:\n",
    "    max_time = max(max_time,log.total_time)\n",
    "    print(log.total_time)\n",
    "print('max time', max_time)"
   ]
  },
  {
   "cell_type": "code",
   "execution_count": 56,
   "metadata": {},
   "outputs": [
    {
     "data": {
      "text/plain": [
       "{'tid': 26,\n",
       " 'vid': 14,\n",
       " 'start_time': 962,\n",
       " 'end_time': 1156,\n",
       " 'total_time': 197,\n",
       " 'time_vehicle_compute': 76,\n",
       " 'time_ul_transmit': 16,\n",
       " 'time_dl_transmit': 105,\n",
       " 'remain_compute_size': 0.0,\n",
       " 'task_size': 79,\n",
       " 'remain_size_dl': 0.0,\n",
       " 'result_size': 24,\n",
       " 'remain_size_ul': 0.0,\n",
       " 'generated_vid': 0,\n",
       " 'experienced_resource_allocation': 10.0}"
      ]
     },
     "execution_count": 56,
     "metadata": {},
     "output_type": "execute_result"
    }
   ],
   "source": [
    "vars(log)"
   ]
  },
  {
   "cell_type": "code",
   "execution_count": 57,
   "metadata": {},
   "outputs": [
    {
     "name": "stdout",
     "output_type": "stream",
     "text": [
      "44\n",
      "44\n",
      "80\n",
      "28\n",
      "99\n",
      "62\n",
      "99\n",
      "59\n",
      "89\n",
      "110\n",
      "52\n",
      "63\n",
      "91\n",
      "84\n",
      "104\n",
      "94\n",
      "107\n",
      "115\n",
      "168\n",
      "162\n",
      "124\n",
      "101\n",
      "134\n",
      "164\n",
      "172\n",
      "138\n",
      "149\n",
      "198\n",
      "252\n",
      "206\n",
      "222\n",
      "309\n",
      "254\n",
      "260\n",
      "305\n",
      "178\n",
      "305\n",
      "305\n",
      "353\n",
      "140\n",
      "233\n",
      "205\n",
      "140\n",
      "306\n",
      "257\n",
      "305\n",
      "305\n",
      "76\n",
      "158\n",
      "158\n",
      "273\n",
      "58\n",
      "468\n",
      "230\n",
      "148\n",
      "479\n",
      "467\n",
      "178\n",
      "110\n",
      "98\n",
      "98\n",
      "281\n",
      "92\n",
      "max_left_time 479\n"
     ]
    }
   ],
   "source": [
    "max_left_time = 0\n",
    "for log in finsih_logs:\n",
    "    time_left = log.total_time -log.time_dl_transmit\n",
    "    max_left_time = max(max_left_time,time_left)\n",
    "    print(time_left)\n",
    "print('max_left_time',max_left_time)"
   ]
  },
  {
   "cell_type": "code",
   "execution_count": 31,
   "metadata": {},
   "outputs": [
    {
     "name": "stdout",
     "output_type": "stream",
     "text": [
      "<utils.Task object at 0x1177d5700>\n"
     ]
    }
   ],
   "source": [
    "print(log)"
   ]
  },
  {
   "cell_type": "code",
   "execution_count": 35,
   "metadata": {},
   "outputs": [
    {
     "name": "stdout",
     "output_type": "stream",
     "text": [
      "1148\n",
      "2046\n",
      "2747\n",
      "4758\n",
      "5392\n",
      "7399\n",
      "8409\n",
      "8970\n",
      "9085\n",
      "9714\n",
      "9753\n",
      "9956\n",
      "10375\n",
      "12261\n",
      "12348\n",
      "12452\n",
      "12891\n",
      "12906\n",
      "14051\n",
      "15481\n",
      "15952\n",
      "16132\n",
      "16683\n",
      "16741\n",
      "16802\n",
      "17034\n",
      "17254\n",
      "18298\n",
      "18941\n",
      "19037\n",
      "19165\n",
      "19676\n",
      "19734\n",
      "19735\n",
      "20569\n",
      "20671\n",
      "20764\n",
      "20766\n",
      "22685\n",
      "23441\n",
      "23606\n",
      "25076\n",
      "25643\n",
      "27128\n",
      "27193\n",
      "27656\n",
      "28356\n",
      "28371\n",
      "30682\n",
      "31388\n",
      "31448\n",
      "31544\n",
      "31816\n",
      "32144\n",
      "32641\n",
      "32786\n",
      "33496\n",
      "33647\n",
      "33796\n",
      "34509\n",
      "35330\n",
      "36365\n",
      "36912\n",
      "37094\n",
      "37555\n",
      "37882\n",
      "39029\n",
      "39558\n",
      "39650\n",
      "40077\n",
      "40139\n",
      "40330\n",
      "40374\n",
      "40394\n",
      "40706\n",
      "40750\n",
      "41237\n",
      "41607\n",
      "41761\n",
      "43697\n",
      "44160\n",
      "44223\n",
      "45066\n",
      "45126\n",
      "45520\n",
      "45762\n",
      "46585\n",
      "46675\n",
      "46750\n",
      "47368\n",
      "47472\n",
      "47911\n",
      "49046\n",
      "49204\n",
      "49710\n",
      "49791\n",
      "50285\n",
      "51182\n",
      "53474\n",
      "54646\n",
      "54814\n",
      "55521\n",
      "56043\n",
      "56711\n",
      "56788\n",
      "56898\n",
      "57037\n",
      "57100\n",
      "57192\n",
      "57773\n",
      "59148\n",
      "59601\n",
      "59761\n"
     ]
    }
   ],
   "source": [
    "for log in logs:\n",
    "    print(log.end_time)"
   ]
  },
  {
   "cell_type": "code",
   "execution_count": null,
   "metadata": {},
   "outputs": [],
   "source": []
  }
 ],
 "metadata": {
  "kernelspec": {
   "display_name": "default",
   "language": "python",
   "name": "python3"
  },
  "language_info": {
   "codemirror_mode": {
    "name": "ipython",
    "version": 3
   },
   "file_extension": ".py",
   "mimetype": "text/x-python",
   "name": "python",
   "nbconvert_exporter": "python",
   "pygments_lexer": "ipython3",
   "version": "3.12.2"
  }
 },
 "nbformat": 4,
 "nbformat_minor": 2
}
