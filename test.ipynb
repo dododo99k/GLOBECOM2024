{
 "cells": [
  {
   "cell_type": "code",
   "execution_count": 5,
   "metadata": {},
   "outputs": [],
   "source": [
    "import math, time, statistics, random\n",
    "import numpy as np\n",
    "# from utils import Task\n",
    "# from compute.aug_server import ShareCompServer  # vehicle server"
   ]
  },
  {
   "cell_type": "code",
   "execution_count": 7,
   "metadata": {},
   "outputs": [
    {
     "name": "stdout",
     "output_type": "stream",
     "text": [
      "4.7495887979907976e+16 (96,)\n"
     ]
    }
   ],
   "source": [
    "a = [1.00000000e+17, 1.00000000e+17, 1.00000000e+17, 1.00000000e+17,\n",
    " 1.00000000e+17, 1.00000000e+17, 2.38008257e+02, 1.00000000e+17,\n",
    " 1.00000000e+17, 2.38008257e+02, 2.38008257e+02, 1.00000000e+17,\n",
    " 1.00000000e+17, 1.00000000e+17, 1.00000000e+17, 1.00000000e+17,\n",
    " 1.00000000e+17, 1.00000000e+17, 2.38008257e+02, 1.00000000e+17,\n",
    " 1.00000000e+17, 1.00000000e+17, 1.00000000e+17, 1.00000000e+17,\n",
    " 1.00000000e+17, 1.00000000e+17, 1.00000000e+17, 1.00000000e+17,\n",
    " 1.00000000e+17, 1.00000000e+17, 1.00000000e+17, 1.00000000e+17,\n",
    " 1.00000000e+17, 1.00000000e+17, 1.00000000e+17, 1.00000000e+17,\n",
    " 1.00000000e+17, 1.00000000e+17, 1.00000000e+17, 1.00000000e+17,\n",
    " 1.00000000e+17, 1.00000000e+17, 1.00000000e+17, 1.00000000e+17,\n",
    " 1.00000000e+17, 1.00000000e+17, 1.00000000e+17, 1.00000000e+17,\n",
    " 1.00000000e+17, 1.00000000e+17, 1.00000000e+17, 1.00000000e+17,\n",
    " 1.00000000e+17, 7.61520902e+02, 7.94513231e+02, 7.94513231e+02,\n",
    " 7.38651416e+02, 7.74942087e+02, 9.09149500e+02, 7.38651416e+02,\n",
    " 7.38651416e+02, 7.74942087e+02, 9.09149500e+02, 9.12033043e+02,\n",
    " 7.60254804e+02, 7.94513231e+02, 9.09149500e+02, 7.61520902e+02,\n",
    " 7.38651416e+02, 7.94513231e+02, 8.15625280e+02, 8.15625280e+02,\n",
    " 7.59763467e+02, 7.96054136e+02, 1.00000000e+17, 7.59763467e+02,\n",
    " 7.59763467e+02, 7.96054136e+02, 1.00000000e+17, 1.00000000e+17,\n",
    " 7.81366854e+02, 8.15625280e+02, 1.00000000e+17, 7.82632952e+02,\n",
    " 7.59763467e+02, 8.15625280e+02, 1.00000000e+17, 1.00000000e+17,\n",
    " 1.00000000e+17, 1.00000000e+17, 1.00000000e+17, 1.00000000e+17,\n",
    " 1.00000000e+17, 1.00000000e+17, 1.00000000e+17, 1.00000000e+17]\n",
    "\n",
    "print(np.std(np.array(a)), np.shape(a))\n"
   ]
  },
  {
   "cell_type": "code",
   "execution_count": 13,
   "metadata": {},
   "outputs": [
    {
     "name": "stdout",
     "output_type": "stream",
     "text": [
      "['1000', 1, 2, 3, True, 'test']\n"
     ]
    }
   ],
   "source": [
    "a = [1,2,3,True,'test']\n",
    "a.insert(0, str(1000))\n",
    "print(a)"
   ]
  },
  {
   "cell_type": "code",
   "execution_count": 3,
   "metadata": {},
   "outputs": [
    {
     "name": "stdout",
     "output_type": "stream",
     "text": [
      "0 (0, 1)\n",
      "1 (0, 2)\n",
      "2 (0, 3)\n",
      "3 (0, 4)\n",
      "4 (0, 5)\n",
      "5 (0, 6)\n",
      "6 (0, 7)\n",
      "7 (0, 8)\n",
      "8 (0, 9)\n",
      "9 (0, 10)\n",
      "10 (0, 11)\n",
      "11 (0, 12)\n",
      "12 (0, 13)\n",
      "13 (0, 14)\n",
      "14 (0, 15)\n",
      "15 (0, 16)\n",
      "16 (0, 17)\n",
      "17 (0, 18)\n",
      "18 (0, 19)\n",
      "19 (1, 2)\n",
      "20 (1, 3)\n",
      "21 (1, 4)\n",
      "22 (1, 5)\n",
      "23 (1, 6)\n",
      "24 (1, 7)\n",
      "25 (1, 8)\n",
      "26 (1, 9)\n",
      "27 (1, 10)\n",
      "28 (1, 11)\n",
      "29 (1, 12)\n",
      "30 (1, 13)\n",
      "31 (1, 14)\n",
      "32 (1, 15)\n",
      "33 (1, 16)\n",
      "34 (1, 17)\n",
      "35 (1, 18)\n",
      "36 (1, 19)\n",
      "37 (2, 3)\n",
      "38 (2, 4)\n",
      "39 (2, 5)\n",
      "40 (2, 6)\n",
      "41 (2, 7)\n",
      "42 (2, 8)\n",
      "43 (2, 9)\n",
      "44 (2, 10)\n",
      "45 (2, 11)\n",
      "46 (2, 12)\n",
      "47 (2, 13)\n",
      "48 (2, 14)\n",
      "49 (2, 15)\n",
      "50 (2, 16)\n",
      "51 (2, 17)\n",
      "52 (2, 18)\n",
      "53 (2, 19)\n",
      "54 (3, 4)\n",
      "55 (3, 5)\n",
      "56 (3, 6)\n",
      "57 (3, 7)\n",
      "58 (3, 8)\n",
      "59 (3, 9)\n",
      "60 (3, 10)\n",
      "61 (3, 11)\n",
      "62 (3, 12)\n",
      "63 (3, 13)\n",
      "64 (3, 14)\n",
      "65 (3, 15)\n",
      "66 (3, 16)\n",
      "67 (3, 17)\n",
      "68 (3, 18)\n",
      "69 (3, 19)\n",
      "70 (4, 5)\n",
      "71 (4, 6)\n",
      "72 (4, 7)\n",
      "73 (4, 8)\n",
      "74 (4, 9)\n",
      "75 (4, 10)\n",
      "76 (4, 11)\n",
      "77 (4, 12)\n",
      "78 (4, 13)\n",
      "79 (4, 14)\n",
      "80 (4, 15)\n",
      "81 (4, 16)\n",
      "82 (4, 17)\n",
      "83 (4, 18)\n",
      "84 (4, 19)\n",
      "85 (5, 6)\n",
      "86 (5, 7)\n",
      "87 (5, 8)\n",
      "88 (5, 9)\n",
      "89 (5, 10)\n",
      "90 (5, 11)\n",
      "91 (5, 12)\n",
      "92 (5, 13)\n",
      "93 (5, 14)\n",
      "94 (5, 15)\n",
      "95 (5, 16)\n",
      "96 (5, 17)\n",
      "97 (5, 18)\n",
      "98 (5, 19)\n",
      "99 (6, 7)\n",
      "100 (6, 8)\n",
      "101 (6, 9)\n",
      "102 (6, 10)\n",
      "103 (6, 11)\n",
      "104 (6, 12)\n",
      "105 (6, 13)\n",
      "106 (6, 14)\n",
      "107 (6, 15)\n",
      "108 (6, 16)\n",
      "109 (6, 17)\n",
      "110 (6, 18)\n",
      "111 (6, 19)\n",
      "112 (7, 8)\n",
      "113 (7, 9)\n",
      "114 (7, 10)\n",
      "115 (7, 11)\n",
      "116 (7, 12)\n",
      "117 (7, 13)\n",
      "118 (7, 14)\n",
      "119 (7, 15)\n",
      "120 (7, 16)\n",
      "121 (7, 17)\n",
      "122 (7, 18)\n",
      "123 (7, 19)\n",
      "124 (8, 9)\n",
      "125 (8, 10)\n",
      "126 (8, 11)\n",
      "127 (8, 12)\n",
      "128 (8, 13)\n",
      "129 (8, 14)\n",
      "130 (8, 15)\n",
      "131 (8, 16)\n",
      "132 (8, 17)\n",
      "133 (8, 18)\n",
      "134 (8, 19)\n",
      "135 (9, 10)\n",
      "136 (9, 11)\n",
      "137 (9, 12)\n",
      "138 (9, 13)\n",
      "139 (9, 14)\n",
      "140 (9, 15)\n",
      "141 (9, 16)\n",
      "142 (9, 17)\n",
      "143 (9, 18)\n",
      "144 (9, 19)\n",
      "145 (10, 11)\n",
      "146 (10, 12)\n",
      "147 (10, 13)\n",
      "148 (10, 14)\n",
      "149 (10, 15)\n",
      "150 (10, 16)\n",
      "151 (10, 17)\n",
      "152 (10, 18)\n",
      "153 (10, 19)\n",
      "154 (11, 12)\n",
      "155 (11, 13)\n",
      "156 (11, 14)\n",
      "157 (11, 15)\n",
      "158 (11, 16)\n",
      "159 (11, 17)\n",
      "160 (11, 18)\n",
      "161 (11, 19)\n",
      "162 (12, 13)\n",
      "163 (12, 14)\n",
      "164 (12, 15)\n",
      "165 (12, 16)\n",
      "166 (12, 17)\n",
      "167 (12, 18)\n",
      "168 (12, 19)\n",
      "169 (13, 14)\n",
      "170 (13, 15)\n",
      "171 (13, 16)\n",
      "172 (13, 17)\n",
      "173 (13, 18)\n",
      "174 (13, 19)\n",
      "175 (14, 15)\n",
      "176 (14, 16)\n",
      "177 (14, 17)\n",
      "178 (14, 18)\n",
      "179 (14, 19)\n",
      "180 (15, 16)\n",
      "181 (15, 17)\n",
      "182 (15, 18)\n",
      "183 (15, 19)\n",
      "184 (16, 17)\n",
      "185 (16, 18)\n",
      "186 (16, 19)\n",
      "187 (17, 18)\n",
      "188 (17, 19)\n",
      "189 (18, 19)\n"
     ]
    }
   ],
   "source": [
    "import itertools\n",
    "\n",
    "sample_list = itertools.combinations(list(range(20)),2)\n",
    "for i,sample_item in enumerate(sample_list):\n",
    "    print(i,sample_item)\n"
   ]
  },
  {
   "cell_type": "code",
   "execution_count": 45,
   "metadata": {},
   "outputs": [
    {
     "data": {
      "text/plain": [
       "0.504073338110091"
      ]
     },
     "execution_count": 45,
     "metadata": {},
     "output_type": "execute_result"
    }
   ],
   "source": [
    "np.random.rand(1)[0]"
   ]
  },
  {
   "cell_type": "code",
   "execution_count": 62,
   "metadata": {},
   "outputs": [
    {
     "data": {
      "text/plain": [
       "3"
      ]
     },
     "execution_count": 62,
     "metadata": {},
     "output_type": "execute_result"
    }
   ],
   "source": [
    "random.randint(1, 20)"
   ]
  },
  {
   "cell_type": "code",
   "execution_count": 38,
   "metadata": {},
   "outputs": [
    {
     "name": "stdout",
     "output_type": "stream",
     "text": [
      "[0, 1, 2, 3, 4, 5, 6, 7, 8, 9]\n",
      "[10, 11, 12, 13, 14, 15, 16, 17, 18, 19]\n"
     ]
    }
   ],
   "source": [
    "a = list(range(20))\n",
    "print(a[0:10])\n",
    "print(a[10:20])"
   ]
  },
  {
   "cell_type": "code",
   "execution_count": 35,
   "metadata": {},
   "outputs": [
    {
     "name": "stdout",
     "output_type": "stream",
     "text": [
      "[1, [3], [1, 2]]\n"
     ]
    }
   ],
   "source": [
    "allocation = []\n",
    "allocation.append(1)\n",
    "allocation.append([3])\n",
    "allocation.append([1,2])\n",
    "print(allocation)"
   ]
  },
  {
   "cell_type": "code",
   "execution_count": 23,
   "metadata": {},
   "outputs": [],
   "source": [
    "def count_reapting(data):\n",
    "    data_count = np.zeros_like(data)\n",
    "    for i in range(len(data)):\n",
    "        for j in np.unique(data):\n",
    "            # print(np.sum(data==j))\n",
    "            if data[i] == j:\n",
    "                data_count[i] = np.sum(data==j)\n",
    "    return data_count"
   ]
  },
  {
   "cell_type": "code",
   "execution_count": 13,
   "metadata": {},
   "outputs": [
    {
     "name": "stdout",
     "output_type": "stream",
     "text": [
      "[  9   9   8   8   8   7   6   5   4   3   2   1   0 -10]\n",
      "1\n"
     ]
    }
   ],
   "source": [
    "data = np.array([0, -10 ,1,2,3,4,5,6,7,8,8,8, 9 ,9])\n",
    "data_sort = np.sort(data)[::-1]\n",
    "print(data_sort)\n",
    "print(np.argsort(data)[0])"
   ]
  },
  {
   "cell_type": "code",
   "execution_count": 140,
   "metadata": {},
   "outputs": [
    {
     "name": "stdout",
     "output_type": "stream",
     "text": [
      "success prob: 0.7046880897187134, when time latency is 3500\n",
      "fail prob: 0.29531191028128656, when time latency is 3500\n",
      "0.08720912435398265\n",
      "success prob: 0.6065306597126334, when time latency is 5000\n",
      "fail prob: 0.3934693402873666, when time latency is 5000\n",
      "0.15481812174617549\n"
     ]
    }
   ],
   "source": [
    "lambda_prob = 0.0001\n",
    "\n",
    "time_length = 3500\n",
    "\n",
    "prob = math.exp(- time_length * lambda_prob)\n",
    "print(\"success prob: {}, when time latency is {}\".format(prob,time_length))\n",
    "print(\"fail prob: {}, when time latency is {}\".format(1-prob,time_length))\n",
    "print((1-prob)**2)\n",
    "\n",
    "\n",
    "time_length = 5000\n",
    "\n",
    "prob = math.exp(- time_length * lambda_prob)\n",
    "print(\"success prob: {}, when time latency is {}\".format(prob,time_length))\n",
    "print(\"fail prob: {}, when time latency is {}\".format(1-prob,time_length))\n",
    "print((1-prob)**2)"
   ]
  },
  {
   "cell_type": "code",
   "execution_count": 145,
   "metadata": {},
   "outputs": [
    {
     "name": "stdout",
     "output_type": "stream",
     "text": [
      "success prob: 0.951229424500714, when time latency is 100\n",
      "fail prob: 0.048770575499285984, when time latency is 100\n",
      "0.0023785690345315543\n",
      "success prob: 0.0820849986238988, when time latency is 5000\n",
      "fail prob: 0.9179150013761012, when time latency is 5000\n",
      "0.8425679497512878\n"
     ]
    }
   ],
   "source": [
    "lambda_prob = 0.0005\n",
    "\n",
    "time_length = 100\n",
    "\n",
    "prob = math.exp(- time_length * lambda_prob)\n",
    "print(\"success prob: {}, when time latency is {}\".format(prob,time_length))\n",
    "print(\"fail prob: {}, when time latency is {}\".format(1-prob,time_length))\n",
    "print((1-prob)**2)\n",
    "\n",
    "\n",
    "time_length = 5000\n",
    "\n",
    "prob = math.exp(- time_length * lambda_prob)\n",
    "print(\"success prob: {}, when time latency is {}\".format(prob,time_length))\n",
    "print(\"fail prob: {}, when time latency is {}\".format(1-prob,time_length))\n",
    "print((1-prob)**2)"
   ]
  },
  {
   "cell_type": "code",
   "execution_count": 47,
   "metadata": {},
   "outputs": [
    {
     "name": "stdout",
     "output_type": "stream",
     "text": [
      "[2, 4, 6, 8, 10]\n"
     ]
    }
   ],
   "source": [
    "a = [0,1,0,1,0,1,0,1,0,1]\n",
    "b = [x+1 for x, y in list(enumerate(a)) if y == 1]\n",
    "print(b)"
   ]
  },
  {
   "cell_type": "code",
   "execution_count": 139,
   "metadata": {},
   "outputs": [
    {
     "name": "stdout",
     "output_type": "stream",
     "text": [
      "CA-111\t100\n"
     ]
    }
   ],
   "source": [
    "UniqueCarrier = \"CA\"\n",
    "Origin = \"111\"\n",
    "name = \"-\".join([UniqueCarrier, Origin])\n",
    "time = 100\n",
    "results = [name, str(time)]\n",
    "print(\"\\t\".join(results))"
   ]
  },
  {
   "cell_type": "code",
   "execution_count": 75,
   "metadata": {},
   "outputs": [
    {
     "name": "stdout",
     "output_type": "stream",
     "text": [
      "(100, 20)\n",
      "(40, 20)\n",
      "[[0. 0. 0. 0. 0. 0. 0. 0. 0. 0. 0. 0. 0. 0. 0. 0. 0. 0. 0. 0.]\n",
      " [0. 0. 0. 0. 0. 0. 0. 0. 0. 0. 0. 0. 0. 0. 0. 0. 0. 0. 0. 0.]\n",
      " [0. 0. 0. 0. 0. 0. 0. 0. 0. 0. 0. 0. 0. 0. 0. 0. 0. 0. 0. 0.]\n",
      " [0. 0. 0. 0. 0. 0. 0. 0. 0. 0. 0. 0. 0. 0. 0. 0. 0. 0. 0. 0.]\n",
      " [0. 0. 0. 0. 0. 0. 0. 0. 0. 0. 0. 0. 0. 0. 0. 0. 0. 0. 0. 0.]\n",
      " [0. 0. 0. 0. 0. 0. 0. 0. 0. 0. 0. 0. 0. 0. 0. 0. 0. 0. 0. 0.]\n",
      " [0. 0. 0. 0. 0. 0. 0. 0. 0. 0. 0. 0. 0. 0. 0. 0. 0. 0. 0. 0.]\n",
      " [0. 0. 0. 0. 0. 0. 0. 0. 0. 0. 0. 0. 0. 0. 0. 0. 0. 0. 0. 0.]\n",
      " [0. 0. 0. 0. 0. 0. 0. 0. 0. 0. 0. 0. 0. 0. 0. 0. 0. 0. 0. 0.]\n",
      " [0. 0. 0. 0. 0. 0. 0. 0. 0. 0. 0. 0. 0. 0. 0. 0. 0. 0. 0. 0.]\n",
      " [0. 0. 0. 0. 0. 0. 0. 0. 0. 0. 0. 0. 0. 0. 0. 0. 0. 0. 0. 0.]\n",
      " [0. 0. 0. 0. 0. 0. 0. 0. 0. 0. 0. 0. 0. 0. 0. 0. 0. 0. 0. 0.]\n",
      " [0. 0. 0. 0. 0. 0. 0. 0. 0. 0. 0. 0. 0. 0. 0. 0. 0. 0. 0. 0.]\n",
      " [0. 0. 0. 0. 0. 0. 0. 0. 0. 0. 0. 0. 0. 0. 0. 0. 0. 0. 0. 0.]\n",
      " [0. 0. 0. 0. 0. 0. 0. 0. 0. 0. 0. 0. 0. 0. 0. 0. 0. 0. 0. 0.]\n",
      " [0. 0. 0. 0. 0. 0. 0. 0. 0. 0. 0. 0. 0. 0. 0. 0. 0. 0. 0. 0.]\n",
      " [0. 0. 0. 0. 0. 0. 0. 0. 0. 0. 0. 0. 0. 0. 0. 0. 0. 0. 0. 0.]\n",
      " [0. 0. 0. 0. 0. 0. 0. 0. 0. 0. 0. 0. 0. 0. 0. 0. 0. 0. 0. 0.]\n",
      " [0. 0. 0. 0. 0. 0. 0. 0. 0. 0. 0. 0. 0. 0. 0. 0. 0. 0. 0. 0.]\n",
      " [1. 0. 0. 0. 0. 0. 0. 0. 0. 0. 0. 0. 0. 0. 0. 0. 0. 0. 0. 0.]]\n"
     ]
    }
   ],
   "source": [
    "N = 100\n",
    "D = 20\n",
    "x = np.random.randint(0, 2, [N, D ])\n",
    "print(np.shape(x))\n",
    "\n",
    "\n",
    "b = np.eye(D)\n",
    "c = np.eye(D) + np.eye(D, k=1)\n",
    "c[D-1, 0] = 1\n",
    "\n",
    "a = np.vstack((b,c))\n",
    "print(np.shape(a))\n",
    "# print(a)\n"
   ]
  },
  {
   "cell_type": "code",
   "execution_count": 87,
   "metadata": {},
   "outputs": [
    {
     "name": "stdout",
     "output_type": "stream",
     "text": [
      "(100, 20)\n",
      "[[1. 0. 0. ... 0. 1. 0.]\n",
      " [1. 1. 1. ... 1. 1. 0.]\n",
      " [0. 1. 0. ... 0. 1. 0.]\n",
      " ...\n",
      " [1. 1. 0. ... 0. 1. 1.]\n",
      " [0. 0. 0. ... 1. 0. 0.]\n",
      " [0. 0. 1. ... 0. 1. 1.]]\n"
     ]
    }
   ],
   "source": [
    "xx = np.empty(shape = (0,20))\n",
    "for i in range(100):\n",
    "    index = np.random.randint(100)\n",
    "    # print(index)\n",
    "    xx = np.vstack((xx,x[index, :] ))\n",
    "print(np.shape(xx))\n",
    "print(xx)"
   ]
  },
  {
   "cell_type": "code",
   "execution_count": 89,
   "metadata": {},
   "outputs": [
    {
     "data": {
      "text/plain": [
       "(100, 20)"
      ]
     },
     "execution_count": 89,
     "metadata": {},
     "output_type": "execute_result"
    }
   ],
   "source": [
    "np.shape(np.zeros([N, D ]))"
   ]
  },
  {
   "cell_type": "code",
   "execution_count": 137,
   "metadata": {},
   "outputs": [
    {
     "name": "stdout",
     "output_type": "stream",
     "text": [
      "[0. 0. 0. 0. 0. 0. 0. 0. 0. 0. 0. 0. 0. 0. 0. 1. 0. 0. 0. 0.]\n"
     ]
    }
   ],
   "source": [
    "N =200\n",
    "vehicles_num = 20\n",
    "tasks_num = 1\n",
    "D = tasks_num * vehicles_num\n",
    "\n",
    "# PSO main part\n",
    "# random sample to initialize partocles\n",
    "ones = np.eye(vehicles_num)\n",
    "twos = np.eye(vehicles_num) + np.eye(vehicles_num, k=1) + np.eye(vehicles_num, k=1-vehicles_num)\n",
    "sample = np.vstack((ones, twos))\n",
    "\n",
    "x = np.zeros([N, D ])\n",
    "\n",
    "for i in range(tasks_num):\n",
    "    \n",
    "    for j in range(N):\n",
    "        index = np.random.randint(np.shape(sample)[0])\n",
    "        x[j,i* vehicles_num : (i+1)*vehicles_num] = sample[index, :]\n",
    "print(x[10,:])"
   ]
  },
  {
   "cell_type": "code",
   "execution_count": 35,
   "metadata": {},
   "outputs": [
    {
     "data": {
      "text/plain": [
       "array([[14,  8, 15,  5,  6],\n",
       "       [ 8,  7, 10, 12,  9],\n",
       "       [ 8,  1, 10,  7,  1],\n",
       "       [15,  5, 17, 19,  5],\n",
       "       [ 0,  4, 15,  5, 17],\n",
       "       [ 7, 18, 14,  7, 12],\n",
       "       [18, 18,  2, 12, 15],\n",
       "       [ 1, 16, 11,  7, 15],\n",
       "       [11, 15,  7, 12, 14],\n",
       "       [17,  1, 18,  5, 16]])"
      ]
     },
     "execution_count": 35,
     "metadata": {},
     "output_type": "execute_result"
    }
   ],
   "source": [
    "np.random.randint(0, 20, [10, 5])"
   ]
  },
  {
   "cell_type": "code",
   "execution_count": 42,
   "metadata": {},
   "outputs": [
    {
     "ename": "TypeError",
     "evalue": "'list' object cannot be interpreted as an integer",
     "output_type": "error",
     "traceback": [
      "\u001b[0;31m---------------------------------------------------------------------------\u001b[0m",
      "\u001b[0;31mTypeError\u001b[0m                                 Traceback (most recent call last)",
      "Cell \u001b[0;32mIn[42], line 3\u001b[0m\n\u001b[1;32m      1\u001b[0m a \u001b[38;5;241m=\u001b[39m \u001b[38;5;28mlist\u001b[39m(\u001b[38;5;28mrange\u001b[39m(\u001b[38;5;241m10\u001b[39m))\n\u001b[1;32m      2\u001b[0m b \u001b[38;5;241m=\u001b[39m \u001b[38;5;28mlist\u001b[39m(\u001b[38;5;28mrange\u001b[39m(\u001b[38;5;241m10\u001b[39m,\u001b[38;5;241m20\u001b[39m))\n\u001b[0;32m----> 3\u001b[0m \u001b[38;5;28;01mfor\u001b[39;00m i, j \u001b[38;5;129;01min\u001b[39;00m \u001b[38;5;28;43menumerate\u001b[39;49m\u001b[43m(\u001b[49m\u001b[43ma\u001b[49m\u001b[43m,\u001b[49m\u001b[43mb\u001b[49m\u001b[43m)\u001b[49m:\n\u001b[1;32m      4\u001b[0m     \u001b[38;5;28mprint\u001b[39m(a,b)\n",
      "\u001b[0;31mTypeError\u001b[0m: 'list' object cannot be interpreted as an integer"
     ]
    }
   ],
   "source": [
    "a = list(range(10))\n",
    "b = list(range(10,20))\n",
    "for i, j in enumerate(a,b):\n",
    "    print(a,b)"
   ]
  },
  {
   "cell_type": "code",
   "execution_count": 24,
   "metadata": {},
   "outputs": [
    {
     "name": "stdout",
     "output_type": "stream",
     "text": [
      "2\n",
      "[[2]\n",
      " [1]\n",
      " [2]\n",
      " [2]\n",
      " [1]\n",
      " [2]\n",
      " [1]\n",
      " [1]\n",
      " [2]\n",
      " [1]]\n"
     ]
    }
   ],
   "source": [
    "x = np.random.randint(0, 2, [10, 1])+1\n",
    "\n",
    "print(x[2,0])\n",
    "print(x)"
   ]
  },
  {
   "cell_type": "code",
   "execution_count": 70,
   "metadata": {},
   "outputs": [
    {
     "name": "stdout",
     "output_type": "stream",
     "text": [
      "(0, 1)\n",
      "(0, 2)\n",
      "(0, 3)\n",
      "(0, 4)\n",
      "(0, 5)\n",
      "(0, 6)\n",
      "(0, 7)\n",
      "(0, 8)\n",
      "(0, 9)\n",
      "(0, 10)\n",
      "(0, 11)\n",
      "(0, 12)\n",
      "(0, 13)\n",
      "(0, 14)\n",
      "(0, 15)\n",
      "(0, 16)\n",
      "(0, 17)\n",
      "(0, 18)\n",
      "(0, 19)\n",
      "(1, 2)\n",
      "(1, 3)\n",
      "(1, 4)\n",
      "(1, 5)\n",
      "(1, 6)\n",
      "(1, 7)\n",
      "(1, 8)\n",
      "(1, 9)\n",
      "(1, 10)\n",
      "(1, 11)\n",
      "(1, 12)\n",
      "(1, 13)\n",
      "(1, 14)\n",
      "(1, 15)\n",
      "(1, 16)\n",
      "(1, 17)\n",
      "(1, 18)\n",
      "(1, 19)\n",
      "(2, 3)\n",
      "(2, 4)\n",
      "(2, 5)\n",
      "(2, 6)\n",
      "(2, 7)\n",
      "(2, 8)\n",
      "(2, 9)\n",
      "(2, 10)\n",
      "(2, 11)\n",
      "(2, 12)\n",
      "(2, 13)\n",
      "(2, 14)\n",
      "(2, 15)\n",
      "(2, 16)\n",
      "(2, 17)\n",
      "(2, 18)\n",
      "(2, 19)\n",
      "(3, 4)\n",
      "(3, 5)\n",
      "(3, 6)\n",
      "(3, 7)\n",
      "(3, 8)\n",
      "(3, 9)\n",
      "(3, 10)\n",
      "(3, 11)\n",
      "(3, 12)\n",
      "(3, 13)\n",
      "(3, 14)\n",
      "(3, 15)\n",
      "(3, 16)\n",
      "(3, 17)\n",
      "(3, 18)\n",
      "(3, 19)\n",
      "(4, 5)\n",
      "(4, 6)\n",
      "(4, 7)\n",
      "(4, 8)\n",
      "(4, 9)\n",
      "(4, 10)\n",
      "(4, 11)\n",
      "(4, 12)\n",
      "(4, 13)\n",
      "(4, 14)\n",
      "(4, 15)\n",
      "(4, 16)\n",
      "(4, 17)\n",
      "(4, 18)\n",
      "(4, 19)\n",
      "(5, 6)\n",
      "(5, 7)\n",
      "(5, 8)\n",
      "(5, 9)\n",
      "(5, 10)\n",
      "(5, 11)\n",
      "(5, 12)\n",
      "(5, 13)\n",
      "(5, 14)\n",
      "(5, 15)\n",
      "(5, 16)\n",
      "(5, 17)\n",
      "(5, 18)\n",
      "(5, 19)\n",
      "(6, 7)\n",
      "(6, 8)\n",
      "(6, 9)\n",
      "(6, 10)\n",
      "(6, 11)\n",
      "(6, 12)\n",
      "(6, 13)\n",
      "(6, 14)\n",
      "(6, 15)\n",
      "(6, 16)\n",
      "(6, 17)\n",
      "(6, 18)\n",
      "(6, 19)\n",
      "(7, 8)\n",
      "(7, 9)\n",
      "(7, 10)\n",
      "(7, 11)\n",
      "(7, 12)\n",
      "(7, 13)\n",
      "(7, 14)\n",
      "(7, 15)\n",
      "(7, 16)\n",
      "(7, 17)\n",
      "(7, 18)\n",
      "(7, 19)\n",
      "(8, 9)\n",
      "(8, 10)\n",
      "(8, 11)\n",
      "(8, 12)\n",
      "(8, 13)\n",
      "(8, 14)\n",
      "(8, 15)\n",
      "(8, 16)\n",
      "(8, 17)\n",
      "(8, 18)\n",
      "(8, 19)\n",
      "(9, 10)\n",
      "(9, 11)\n",
      "(9, 12)\n",
      "(9, 13)\n",
      "(9, 14)\n",
      "(9, 15)\n",
      "(9, 16)\n",
      "(9, 17)\n",
      "(9, 18)\n",
      "(9, 19)\n",
      "(10, 11)\n",
      "(10, 12)\n",
      "(10, 13)\n",
      "(10, 14)\n",
      "(10, 15)\n",
      "(10, 16)\n",
      "(10, 17)\n",
      "(10, 18)\n",
      "(10, 19)\n",
      "(11, 12)\n",
      "(11, 13)\n",
      "(11, 14)\n",
      "(11, 15)\n",
      "(11, 16)\n",
      "(11, 17)\n",
      "(11, 18)\n",
      "(11, 19)\n",
      "(12, 13)\n",
      "(12, 14)\n",
      "(12, 15)\n",
      "(12, 16)\n",
      "(12, 17)\n",
      "(12, 18)\n",
      "(12, 19)\n",
      "(13, 14)\n",
      "(13, 15)\n",
      "(13, 16)\n",
      "(13, 17)\n",
      "(13, 18)\n",
      "(13, 19)\n",
      "(14, 15)\n",
      "(14, 16)\n",
      "(14, 17)\n",
      "(14, 18)\n",
      "(14, 19)\n",
      "(15, 16)\n",
      "(15, 17)\n",
      "(15, 18)\n",
      "(15, 19)\n",
      "(16, 17)\n",
      "(16, 18)\n",
      "(16, 19)\n",
      "(17, 18)\n",
      "(17, 19)\n",
      "(18, 19)\n"
     ]
    }
   ],
   "source": [
    "import itertools\n",
    "\n",
    "a = list(range(20))\n",
    "\n",
    "b =itertools.combinations(a,2)\n",
    "for v in b:\n",
    "    print(v)"
   ]
  },
  {
   "cell_type": "code",
   "execution_count": 109,
   "metadata": {},
   "outputs": [],
   "source": [
    "vehicles_num = 20 # 20 by default\n",
    "tasks_num = 2\n",
    "allocation_space = []\n",
    "for allocated_v_num in range(1,4):\n",
    "    sample_list = itertools.combinations(list(range(vehicles_num)),allocated_v_num)\n",
    "    for sample_item in sample_list:\n",
    "        particle = [0] * vehicles_num\n",
    "        for j in sample_item:\n",
    "            particle[j] = 1\n",
    "        allocation_space.append(particle)\n",
    "\n",
    "allocation_num = len(allocation_space)\n",
    "x=[]\n",
    "for _ in range(100):\n",
    "    particle_temp = []\n",
    "    for _ in range(tasks_num):\n",
    "        particle_temp.extend(allocation_space[np.random.randint(allocation_num)])\n",
    "    x.append(particle_temp)\n",
    "print(np.shape(x))"
   ]
  },
  {
   "cell_type": "code",
   "execution_count": 111,
   "metadata": {},
   "outputs": [
    {
     "data": {
      "text/plain": [
       "(100, 40)"
      ]
     },
     "execution_count": 111,
     "metadata": {},
     "output_type": "execute_result"
    }
   ],
   "source": []
  },
  {
   "cell_type": "code",
   "execution_count": 10,
   "metadata": {},
   "outputs": [
    {
     "name": "stdout",
     "output_type": "stream",
     "text": [
      "10\n",
      "yes 1\n",
      "yes 2\n",
      "yes 3\n",
      "yes 4\n",
      "yes 5\n",
      "yes 6\n",
      "yes 7\n",
      "yes 8\n",
      "yes 9\n",
      "yes 10\n",
      "[<utils.Task object at 0x115ccf290>, <utils.Task object at 0x11580f170>, <utils.Task object at 0x115d1f5f0>, <utils.Task object at 0x115d1f860>, <utils.Task object at 0x115d1fef0>, <utils.Task object at 0x115d1d700>, <utils.Task object at 0x115d1fad0>, <utils.Task object at 0x115d1ff20>, <utils.Task object at 0x115d1ffb0>, <utils.Task object at 0x115d1fda0>] 10\n"
     ]
    }
   ],
   "source": [
    "tasks = [Task(tid=1+k, curr_time=0, generated_vid = 0) for k in range(10)]\n",
    "print(len(tasks))\n",
    "remove_list = []\n",
    "\n",
    "for tk in tasks:\n",
    "    if tk.generated_vid==0:\n",
    "        print(\"yes\", tk.tid)\n",
    "        remove_list.append(tk)\n",
    "\n",
    "# for tk in remove_list:\n",
    "#     tasks.remove(tk)\n",
    "\n",
    "print(tasks, len(tasks))"
   ]
  },
  {
   "cell_type": "code",
   "execution_count": 20,
   "metadata": {},
   "outputs": [
    {
     "name": "stdout",
     "output_type": "stream",
     "text": [
      "task number: 10\n",
      "0\n",
      "2\n",
      "4\n",
      "6\n",
      "8\n",
      "task number: 5\n"
     ]
    }
   ],
   "source": [
    "tasks = [Task(tid=k, curr_time=0, generated_vid = 0) for k in range(10)]\n",
    "print('task number:',len(tasks))\n",
    "\n",
    "for tk in tasks:\n",
    "    print(tk.tid)\n",
    "    tasks.remove(tk)\n",
    "    # print(tk.tid)\n",
    "print('task number:',len(tasks))"
   ]
  },
  {
   "cell_type": "code",
   "execution_count": 22,
   "metadata": {},
   "outputs": [
    {
     "name": "stdout",
     "output_type": "stream",
     "text": [
      "1\n"
     ]
    }
   ],
   "source": [
    "a = 10\n",
    "\n",
    "if a > 1:\n",
    "    print('1')\n",
    "elif a >2:\n",
    "    print('2')\n",
    "else:\n",
    "    print('3')"
   ]
  },
  {
   "cell_type": "code",
   "execution_count": 5,
   "metadata": {},
   "outputs": [
    {
     "name": "stdout",
     "output_type": "stream",
     "text": [
      "0\n"
     ]
    }
   ],
   "source": [
    "Vehicles = []\n",
    "for vid in range(30):\n",
    "            Vehicles.append(ShareCompServer(vid, capacity=10))\n",
    "print(Vehicles[0].vid)"
   ]
  },
  {
   "cell_type": "code",
   "execution_count": 15,
   "metadata": {},
   "outputs": [
    {
     "name": "stdout",
     "output_type": "stream",
     "text": [
      "[0, 1, 2, 3, 4, 5, 6, 7, 8] 3.409385681152344e-05 3.814697265625e-05\n",
      "1\n"
     ]
    }
   ],
   "source": [
    "a = list(range(10))\n",
    "b = ['1']\n",
    "\n",
    "start_time = time.time()\n",
    "a.remove(9)\n",
    "useage_time = time.time()-start_time\n",
    "\n",
    "start_time = time.time()\n",
    "try:\n",
    "    a.remove(9)\n",
    "except:\n",
    "    pass\n",
    "tryuseage_time = time.time()-start_time\n",
    "print(a, useage_time, tryuseage_time)\n",
    "if b:\n",
    "    print(1)\n",
    "else:\n",
    "    print(2)"
   ]
  },
  {
   "cell_type": "code",
   "execution_count": 59,
   "metadata": {},
   "outputs": [
    {
     "name": "stdout",
     "output_type": "stream",
     "text": [
      "14\n",
      "[0.6065306597126334, 0.9097959895689501, 0.9856123220330293, 0.9982483774437092, 0.9998278843700442, 0.9999858350626777, 0.9999989976203971, 0.9999999378030914, 0.9999999965645098, 0.999999999829033, 0.9999999999922592, 0.9999999999996786, 0.9999999999999877, 0.9999999999999996, 1.0]\n",
      "15\n"
     ]
    }
   ],
   "source": [
    "l = 0.5\n",
    "n = 0\n",
    "cdf = 0\n",
    "cdf_list = []\n",
    "\n",
    "while 1:\n",
    "    # print(n)\n",
    "    # prob = l**n*math.exp(-l)/math.factorial(n)\n",
    "    prob = l**n/math.factorial(n)*math.exp(-l)\n",
    "    cdf += prob\n",
    "    cdf_list.append(cdf)\n",
    "    # print(prob)\n",
    "    # print(l**n*math.exp(l)/math.factorial(n))\n",
    "    if cdf >= 1 or (n > l and prob<=1e-16):\n",
    "        break\n",
    "    n+=1\n",
    "\n",
    "print(n)\n",
    "print(cdf_list)\n",
    "print(len(cdf_list))"
   ]
  },
  {
   "cell_type": "code",
   "execution_count": 181,
   "metadata": {},
   "outputs": [
    {
     "name": "stdout",
     "output_type": "stream",
     "text": [
      "7 0 6\n",
      "3 0 2\n",
      "1 2 2\n",
      "result: 1 2 2\n",
      "result: 2 2 2\n"
     ]
    }
   ],
   "source": [
    "target = 0.9\n",
    "\n",
    "left, right = 0, len(cdf_list) - 1\n",
    "while left < right:\n",
    "    mid = left + (right - left) // 2\n",
    "    if cdf_list[mid] < target:\n",
    "        left = mid + 1\n",
    "    elif cdf_list[mid] > target:\n",
    "        right = mid - 1\n",
    "\n",
    "mid = left + (right - left) // 2\n",
    "\n",
    "if cdf_list[mid] < target and target <= cdf_list[mid+1]:\n",
    "    mid+=1\n",
    "elif cdf_list[mid+1] < target:\n",
    "    mid+=2\n",
    "\n",
    "print('result:',mid, left, right)"
   ]
  },
  {
   "cell_type": "code",
   "execution_count": 8,
   "metadata": {},
   "outputs": [
    {
     "name": "stdout",
     "output_type": "stream",
     "text": [
      "ok 1 okok 2ok\n"
     ]
    }
   ],
   "source": [
    "a = 1\n",
    "b=2\n",
    "print('ok %s okok %sok' %(a,b))"
   ]
  },
  {
   "cell_type": "code",
   "execution_count": 138,
   "metadata": {},
   "outputs": [
    {
     "name": "stdout",
     "output_type": "stream",
     "text": [
      "1\n"
     ]
    }
   ],
   "source": [
    "if np.random.randint(2):\n",
    "    print('1')"
   ]
  },
  {
   "cell_type": "code",
   "execution_count": 48,
   "metadata": {},
   "outputs": [
    {
     "name": "stdout",
     "output_type": "stream",
     "text": [
      "210\n",
      "[[1 0 0 0 0 0 0 0 0 0 0 0 0 0 0 0 0 0 0 0 0 0 0 0 0 0 0 0 0 0 1 0 0 0 0 0\n",
      "  0 0 0 0]\n",
      " [0 1 0 0 0 0 0 0 0 0 0 0 0 0 0 0 0 0 0 0 0 0 1 0 0 0 0 0 0 0 0 0 0 0 0 0\n",
      "  0 0 0 0]\n",
      " [0 0 1 0 0 0 0 0 0 0 0 0 0 0 0 0 0 0 0 0 0 0 0 0 0 0 0 0 0 0 0 0 0 0 0 0\n",
      "  0 0 1 0]\n",
      " [0 0 0 1 0 0 0 0 0 0 0 0 0 0 0 0 0 0 0 0 0 0 0 0 0 0 1 0 0 0 0 0 0 0 0 0\n",
      "  0 0 0 0]\n",
      " [0 0 0 0 1 0 0 0 0 0 0 0 0 0 0 0 0 0 0 0 0 0 0 0 0 0 0 0 0 0 0 0 0 0 1 0\n",
      "  0 0 0 0]\n",
      " [0 0 0 0 0 1 0 0 0 0 0 0 0 0 0 0 0 0 0 0 0 1 0 0 0 0 0 0 0 0 0 0 0 0 0 0\n",
      "  0 0 0 0]\n",
      " [0 0 0 0 0 0 1 0 0 0 0 0 0 0 0 0 0 0 0 0 0 0 0 0 0 0 0 0 0 0 0 0 0 0 1 0\n",
      "  0 0 0 0]\n",
      " [0 0 0 0 0 0 0 1 0 0 0 0 0 0 0 0 0 0 0 0 0 0 0 0 0 0 0 0 0 1 0 0 0 0 0 0\n",
      "  0 0 0 0]\n",
      " [0 0 0 0 0 0 0 0 1 0 0 0 0 0 0 0 0 0 0 0 1 0 0 0 0 0 0 0 0 0 0 0 0 0 0 0\n",
      "  0 0 0 0]\n",
      " [0 0 0 0 0 0 0 0 0 1 0 0 0 0 0 0 0 0 0 0 1 0 0 0 0 0 0 0 0 0 0 0 0 0 0 0\n",
      "  0 0 0 0]\n",
      " [0 0 0 0 0 0 0 0 0 0 1 0 0 0 0 0 0 0 0 0 0 0 0 0 0 0 0 0 0 0 0 0 0 0 0 0\n",
      "  0 0 1 0]\n",
      " [0 0 0 0 0 0 0 0 0 0 0 1 0 0 0 0 0 0 0 0 0 0 0 0 0 0 0 0 0 0 0 0 0 1 0 0\n",
      "  0 0 0 0]\n",
      " [0 0 0 0 0 0 0 0 0 0 0 0 1 0 0 0 0 0 0 0 0 0 0 0 0 0 0 0 0 0 1 0 0 0 0 0\n",
      "  0 0 0 0]\n",
      " [0 0 0 0 0 0 0 0 0 0 0 0 0 1 0 0 0 0 0 0 0 0 0 0 0 0 0 0 0 0 1 0 0 0 0 0\n",
      "  0 0 0 0]\n",
      " [0 0 0 0 0 0 0 0 0 0 0 0 0 0 1 0 0 0 0 0 0 1 0 0 0 0 0 0 0 0 0 0 0 0 0 0\n",
      "  0 0 0 0]\n",
      " [0 0 0 0 0 0 0 0 0 0 0 0 0 0 0 1 0 0 0 0 0 0 0 0 0 0 0 0 1 0 0 0 0 0 0 0\n",
      "  0 0 0 0]\n",
      " [0 0 0 0 0 0 0 0 0 0 0 0 0 0 0 0 1 0 0 0 0 0 0 0 0 0 0 0 0 0 0 0 0 1 0 0\n",
      "  0 0 0 0]\n",
      " [0 0 0 0 0 0 0 0 0 0 0 0 0 0 0 0 0 1 0 0 0 0 0 0 0 0 0 1 0 0 0 0 0 0 0 0\n",
      "  0 0 0 0]\n",
      " [0 0 0 0 0 0 0 0 0 0 0 0 0 0 0 0 0 0 1 0 0 0 0 0 0 1 0 0 0 0 0 0 0 0 0 0\n",
      "  0 0 0 0]\n",
      " [0 0 0 0 0 0 0 0 0 0 0 0 0 0 0 0 0 0 0 1 0 0 0 0 0 0 0 0 0 0 1 0 0 0 0 0\n",
      "  0 0 0 0]]\n"
     ]
    }
   ],
   "source": [
    "import itertools\n",
    "import numpy as np\n",
    "vehicles_num = 20# 20 by default\n",
    "tasks_num = 2\n",
    "D = tasks_num * vehicles_num\n",
    "N = 100\n",
    "# PSO main part\n",
    "# random sample to initialize partocles\n",
    "# x = np.random.randint(0, 2, [N, D ]) # 0-20 represent vehicle_id\n",
    "allocation_space = []\n",
    "for allocated_v_num in range(1, 3):\n",
    "    sample_list = itertools.combinations(list(range(vehicles_num)),allocated_v_num)\n",
    "    for sample_item in sample_list:\n",
    "        particle = [0] * vehicles_num\n",
    "        for j in sample_item:\n",
    "            particle[j] = 1\n",
    "        allocation_space.append(particle)\n",
    "\n",
    "print(len(allocation_space))\n",
    "# print(allocation_space[:20])\n",
    "x=[]\n",
    "for i in range(vehicles_num):\n",
    "    particle_temp = []\n",
    "    index_list = list(range(vehicles_num))\n",
    "    for j in range(tasks_num):\n",
    "        # sample_allcation = allocation_space[np.random.randint(vehicles_num)]\n",
    "        if j != 0:\n",
    "            index = random.sample(index_list, 1)[0]\n",
    "        else:\n",
    "            index = i\n",
    "        index_list.remove(index)\n",
    "        particle_temp.extend(allocation_space[index])\n",
    "    x.append(particle_temp)\n",
    "    \n",
    "for _ in range(N-vehicles_num):\n",
    "    particle_temp = []\n",
    "    for _ in range(tasks_num):\n",
    "        # sample_allcation = allocation_space[np.random.randint(vehicles_num)]\n",
    "        particle_temp.extend(allocation_space[np.random.randint(len(allocation_space))])\n",
    "    x.append(particle_temp)\n",
    "x = np.array(x)\n",
    "print(x[:20])"
   ]
  },
  {
   "cell_type": "code",
   "execution_count": 44,
   "metadata": {},
   "outputs": [
    {
     "name": "stdout",
     "output_type": "stream",
     "text": [
      "<class 'int'>\n",
      "6 <class 'int'>\n",
      "[0, 1, 2, 3, 4, 5, 6, 7, 8, 9, 10, 11, 12, 13, 14, 15, 17, 18, 19]\n",
      "[0, 1, 2, 3, 4, 5, 7, 8, 9, 10, 11, 12, 13, 14, 15, 17, 18, 19]\n"
     ]
    }
   ],
   "source": [
    "index_list = list(range(vehicles_num))\n",
    "b = 16\n",
    "print(type(16))\n",
    "c = index = random.sample(index_list, 1)[0]\n",
    "print(c, type(c))\n",
    "index_list.remove(b)\n",
    "print(index_list)\n",
    "index_list.remove(c)\n",
    "print(index_list)"
   ]
  },
  {
   "cell_type": "code",
   "execution_count": 49,
   "metadata": {},
   "outputs": [
    {
     "name": "stdout",
     "output_type": "stream",
     "text": [
      "1\n",
      "2\n"
     ]
    }
   ],
   "source": [
    "for i in range(1,3):\n",
    "    print(i)"
   ]
  },
  {
   "cell_type": "code",
   "execution_count": 50,
   "metadata": {},
   "outputs": [
    {
     "data": {
      "text/plain": [
       "3"
      ]
     },
     "execution_count": 50,
     "metadata": {},
     "output_type": "execute_result"
    }
   ],
   "source": [
    "n = 3\n",
    "m = 2\n",
    "math.factorial(n)//(math.factorial(n-m)*math.factorial(m))"
   ]
  },
  {
   "cell_type": "code",
   "execution_count": 181,
   "metadata": {},
   "outputs": [
    {
     "data": {
      "text/plain": [
       "-12.156840504670045"
      ]
     },
     "execution_count": 181,
     "metadata": {},
     "output_type": "execute_result"
    }
   ],
   "source": [
    "np.random.normal(0, 8)"
   ]
  },
  {
   "cell_type": "code",
   "execution_count": 239,
   "metadata": {},
   "outputs": [
    {
     "name": "stdout",
     "output_type": "stream",
     "text": [
      "-61.83603894196726 -114.35166937114434\n"
     ]
    },
    {
     "name": "stderr",
     "output_type": "stream",
     "text": [
      "/var/folders/4y/6hwhj6cx083_rlnxjx67lthm0000gn/T/ipykernel_85932/1807837439.py:3: DeprecationWarning: Conversion of an array with ndim > 0 to a scalar is deprecated, and will error in future. Ensure you extract a single element from your array before performing this operation. (Deprecated NumPy 1.25.)\n",
      "  cos_dis = math.cos(a)*d\n",
      "/var/folders/4y/6hwhj6cx083_rlnxjx67lthm0000gn/T/ipykernel_85932/1807837439.py:4: DeprecationWarning: Conversion of an array with ndim > 0 to a scalar is deprecated, and will error in future. Ensure you extract a single element from your array before performing this operation. (Deprecated NumPy 1.25.)\n",
      "  sin_dis = math.sin(a)*d\n"
     ]
    }
   ],
   "source": [
    "a = np.random.rand(1)*2*math.pi\n",
    "d = np.random.randint(30, 500, 1)[0]\n",
    "cos_dis = math.cos(a)*d\n",
    "sin_dis = math.sin(a)*d\n",
    "\n",
    "print(cos_dis,sin_dis)"
   ]
  },
  {
   "cell_type": "code",
   "execution_count": 241,
   "metadata": {},
   "outputs": [
    {
     "data": {
      "text/plain": [
       "array([ -62., -114.])"
      ]
     },
     "execution_count": 241,
     "metadata": {},
     "output_type": "execute_result"
    }
   ],
   "source": [
    "np.round([cos_dis, sin_dis])"
   ]
  },
  {
   "cell_type": "code",
   "execution_count": 236,
   "metadata": {},
   "outputs": [
    {
     "data": {
      "text/plain": [
       "[0.5, 0.3, 0.5, 0.3]"
      ]
     },
     "execution_count": 236,
     "metadata": {},
     "output_type": "execute_result"
    }
   ],
   "source": [
    "[0.5, 0.3]*2"
   ]
  }
 ],
 "metadata": {
  "kernelspec": {
   "display_name": "default",
   "language": "python",
   "name": "python3"
  },
  "language_info": {
   "codemirror_mode": {
    "name": "ipython",
    "version": 3
   },
   "file_extension": ".py",
   "mimetype": "text/x-python",
   "name": "python",
   "nbconvert_exporter": "python",
   "pygments_lexer": "ipython3",
   "version": "3.12.2"
  }
 },
 "nbformat": 4,
 "nbformat_minor": 2
}
