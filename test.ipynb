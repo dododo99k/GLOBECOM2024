{
 "cells": [
  {
   "cell_type": "code",
   "execution_count": 15,
   "metadata": {},
   "outputs": [],
   "source": [
    "import math, time, statistics, random\n",
    "import numpy as np\n",
    "from utils import Task\n",
    "from compute.aug_server import ShareCompServer  # vehicle server"
   ]
  },
  {
   "cell_type": "code",
   "execution_count": 18,
   "metadata": {},
   "outputs": [
    {
     "name": "stdout",
     "output_type": "stream",
     "text": [
      "[[0. 0. 0.]\n",
      " [0. 0. 0.]\n",
      " [0. 0. 0.]\n",
      " [0. 0. 0.]\n",
      " [0. 0. 0.]\n",
      " [0. 0. 0.]\n",
      " [0. 0. 0.]\n",
      " [0. 0. 0.]\n",
      " [0. 0. 0.]\n",
      " [0. 0. 0.]]\n",
      "[0. 0. 0.]\n"
     ]
    }
   ],
   "source": [
    "x = np.zeros((10,3))\n",
    "print(x)\n",
    "print(x[3,:])"
   ]
  },
  {
   "cell_type": "code",
   "execution_count": 45,
   "metadata": {},
   "outputs": [
    {
     "data": {
      "text/plain": [
       "0.504073338110091"
      ]
     },
     "execution_count": 45,
     "metadata": {},
     "output_type": "execute_result"
    }
   ],
   "source": [
    "np.random.rand(1)[0]"
   ]
  },
  {
   "cell_type": "code",
   "execution_count": 38,
   "metadata": {},
   "outputs": [
    {
     "name": "stdout",
     "output_type": "stream",
     "text": [
      "[0, 1, 2, 3, 4, 5, 6, 7, 8, 9]\n",
      "[10, 11, 12, 13, 14, 15, 16, 17, 18, 19]\n"
     ]
    }
   ],
   "source": [
    "a = list(range(20))\n",
    "print(a[0:10])\n",
    "print(a[10:20])"
   ]
  },
  {
   "cell_type": "code",
   "execution_count": 35,
   "metadata": {},
   "outputs": [
    {
     "name": "stdout",
     "output_type": "stream",
     "text": [
      "[1, [3], [1, 2]]\n"
     ]
    }
   ],
   "source": [
    "allocation = []\n",
    "allocation.append(1)\n",
    "allocation.append([3])\n",
    "allocation.append([1,2])\n",
    "print(allocation)"
   ]
  },
  {
   "cell_type": "code",
   "execution_count": 23,
   "metadata": {},
   "outputs": [],
   "source": [
    "def count_reapting(data):\n",
    "    data_count = np.zeros_like(data)\n",
    "    for i in range(len(data)):\n",
    "        for j in np.unique(data):\n",
    "            # print(np.sum(data==j))\n",
    "            if data[i] == j:\n",
    "                data_count[i] = np.sum(data==j)\n",
    "    return data_count"
   ]
  },
  {
   "cell_type": "code",
   "execution_count": 31,
   "metadata": {},
   "outputs": [
    {
     "name": "stdout",
     "output_type": "stream",
     "text": [
      "[9 9 8 8 8 7 6 5 4 3 2 1 0]\n",
      "[12 11 10  9  8  7  6  5  4  3  2  1  0]\n"
     ]
    }
   ],
   "source": [
    "data = np.array([0,1,2,3,4,5,6,7,8,8,8, 9 ,9])\n",
    "data_sort = np.sort(data)[::-1]\n",
    "print(data_sort)\n",
    "print(np.argsort(data)[::-1])"
   ]
  },
  {
   "cell_type": "code",
   "execution_count": 140,
   "metadata": {},
   "outputs": [
    {
     "name": "stdout",
     "output_type": "stream",
     "text": [
      "success prob: 0.7046880897187134, when time latency is 3500\n",
      "fail prob: 0.29531191028128656, when time latency is 3500\n",
      "0.08720912435398265\n",
      "success prob: 0.6065306597126334, when time latency is 5000\n",
      "fail prob: 0.3934693402873666, when time latency is 5000\n",
      "0.15481812174617549\n"
     ]
    }
   ],
   "source": [
    "lambda_prob = 0.0001\n",
    "\n",
    "time_length = 3500\n",
    "\n",
    "prob = math.exp(- time_length * lambda_prob)\n",
    "print(\"success prob: {}, when time latency is {}\".format(prob,time_length))\n",
    "print(\"fail prob: {}, when time latency is {}\".format(1-prob,time_length))\n",
    "print((1-prob)**2)\n",
    "\n",
    "\n",
    "time_length = 5000\n",
    "\n",
    "prob = math.exp(- time_length * lambda_prob)\n",
    "print(\"success prob: {}, when time latency is {}\".format(prob,time_length))\n",
    "print(\"fail prob: {}, when time latency is {}\".format(1-prob,time_length))\n",
    "print((1-prob)**2)"
   ]
  },
  {
   "cell_type": "code",
   "execution_count": 145,
   "metadata": {},
   "outputs": [
    {
     "name": "stdout",
     "output_type": "stream",
     "text": [
      "success prob: 0.7788007830714049, when time latency is 5000\n",
      "fail prob: 0.22119921692859512, when time latency is 5000\n",
      "0.04892909356982368\n",
      "success prob: 0.7788007830714049, when time latency is 5000\n",
      "fail prob: 0.22119921692859512, when time latency is 5000\n",
      "0.04892909356982368\n"
     ]
    }
   ],
   "source": [
    "lambda_prob = 0.00005\n",
    "\n",
    "time_length = 5000\n",
    "\n",
    "prob = math.exp(- time_length * lambda_prob)\n",
    "print(\"success prob: {}, when time latency is {}\".format(prob,time_length))\n",
    "print(\"fail prob: {}, when time latency is {}\".format(1-prob,time_length))\n",
    "print((1-prob)**2)\n",
    "\n",
    "\n",
    "time_length = 5000\n",
    "\n",
    "prob = math.exp(- time_length * lambda_prob)\n",
    "print(\"success prob: {}, when time latency is {}\".format(prob,time_length))\n",
    "print(\"fail prob: {}, when time latency is {}\".format(1-prob,time_length))\n",
    "print((1-prob)**2)"
   ]
  },
  {
   "cell_type": "code",
   "execution_count": 47,
   "metadata": {},
   "outputs": [
    {
     "name": "stdout",
     "output_type": "stream",
     "text": [
      "[2, 4, 6, 8, 10]\n"
     ]
    }
   ],
   "source": [
    "a = [0,1,0,1,0,1,0,1,0,1]\n",
    "b = [x+1 for x, y in list(enumerate(a)) if y == 1]\n",
    "print(b)"
   ]
  },
  {
   "cell_type": "code",
   "execution_count": 139,
   "metadata": {},
   "outputs": [
    {
     "name": "stdout",
     "output_type": "stream",
     "text": [
      "CA-111\t100\n"
     ]
    }
   ],
   "source": [
    "UniqueCarrier = \"CA\"\n",
    "Origin = \"111\"\n",
    "name = \"-\".join([UniqueCarrier, Origin])\n",
    "time = 100\n",
    "results = [name, str(time)]\n",
    "print(\"\\t\".join(results))"
   ]
  },
  {
   "cell_type": "code",
   "execution_count": 75,
   "metadata": {},
   "outputs": [
    {
     "name": "stdout",
     "output_type": "stream",
     "text": [
      "(100, 20)\n",
      "(40, 20)\n",
      "[[0. 0. 0. 0. 0. 0. 0. 0. 0. 0. 0. 0. 0. 0. 0. 0. 0. 0. 0. 0.]\n",
      " [0. 0. 0. 0. 0. 0. 0. 0. 0. 0. 0. 0. 0. 0. 0. 0. 0. 0. 0. 0.]\n",
      " [0. 0. 0. 0. 0. 0. 0. 0. 0. 0. 0. 0. 0. 0. 0. 0. 0. 0. 0. 0.]\n",
      " [0. 0. 0. 0. 0. 0. 0. 0. 0. 0. 0. 0. 0. 0. 0. 0. 0. 0. 0. 0.]\n",
      " [0. 0. 0. 0. 0. 0. 0. 0. 0. 0. 0. 0. 0. 0. 0. 0. 0. 0. 0. 0.]\n",
      " [0. 0. 0. 0. 0. 0. 0. 0. 0. 0. 0. 0. 0. 0. 0. 0. 0. 0. 0. 0.]\n",
      " [0. 0. 0. 0. 0. 0. 0. 0. 0. 0. 0. 0. 0. 0. 0. 0. 0. 0. 0. 0.]\n",
      " [0. 0. 0. 0. 0. 0. 0. 0. 0. 0. 0. 0. 0. 0. 0. 0. 0. 0. 0. 0.]\n",
      " [0. 0. 0. 0. 0. 0. 0. 0. 0. 0. 0. 0. 0. 0. 0. 0. 0. 0. 0. 0.]\n",
      " [0. 0. 0. 0. 0. 0. 0. 0. 0. 0. 0. 0. 0. 0. 0. 0. 0. 0. 0. 0.]\n",
      " [0. 0. 0. 0. 0. 0. 0. 0. 0. 0. 0. 0. 0. 0. 0. 0. 0. 0. 0. 0.]\n",
      " [0. 0. 0. 0. 0. 0. 0. 0. 0. 0. 0. 0. 0. 0. 0. 0. 0. 0. 0. 0.]\n",
      " [0. 0. 0. 0. 0. 0. 0. 0. 0. 0. 0. 0. 0. 0. 0. 0. 0. 0. 0. 0.]\n",
      " [0. 0. 0. 0. 0. 0. 0. 0. 0. 0. 0. 0. 0. 0. 0. 0. 0. 0. 0. 0.]\n",
      " [0. 0. 0. 0. 0. 0. 0. 0. 0. 0. 0. 0. 0. 0. 0. 0. 0. 0. 0. 0.]\n",
      " [0. 0. 0. 0. 0. 0. 0. 0. 0. 0. 0. 0. 0. 0. 0. 0. 0. 0. 0. 0.]\n",
      " [0. 0. 0. 0. 0. 0. 0. 0. 0. 0. 0. 0. 0. 0. 0. 0. 0. 0. 0. 0.]\n",
      " [0. 0. 0. 0. 0. 0. 0. 0. 0. 0. 0. 0. 0. 0. 0. 0. 0. 0. 0. 0.]\n",
      " [0. 0. 0. 0. 0. 0. 0. 0. 0. 0. 0. 0. 0. 0. 0. 0. 0. 0. 0. 0.]\n",
      " [1. 0. 0. 0. 0. 0. 0. 0. 0. 0. 0. 0. 0. 0. 0. 0. 0. 0. 0. 0.]]\n"
     ]
    }
   ],
   "source": [
    "N = 100\n",
    "D = 20\n",
    "x = np.random.randint(0, 2, [N, D ])\n",
    "print(np.shape(x))\n",
    "\n",
    "\n",
    "b = np.eye(D)\n",
    "c = np.eye(D) + np.eye(D, k=1)\n",
    "c[D-1, 0] = 1\n",
    "\n",
    "a = np.vstack((b,c))\n",
    "print(np.shape(a))\n",
    "# print(a)\n"
   ]
  },
  {
   "cell_type": "code",
   "execution_count": 87,
   "metadata": {},
   "outputs": [
    {
     "name": "stdout",
     "output_type": "stream",
     "text": [
      "(100, 20)\n",
      "[[1. 0. 0. ... 0. 1. 0.]\n",
      " [1. 1. 1. ... 1. 1. 0.]\n",
      " [0. 1. 0. ... 0. 1. 0.]\n",
      " ...\n",
      " [1. 1. 0. ... 0. 1. 1.]\n",
      " [0. 0. 0. ... 1. 0. 0.]\n",
      " [0. 0. 1. ... 0. 1. 1.]]\n"
     ]
    }
   ],
   "source": [
    "xx = np.empty(shape = (0,20))\n",
    "for i in range(100):\n",
    "    index = np.random.randint(100)\n",
    "    # print(index)\n",
    "    xx = np.vstack((xx,x[index, :] ))\n",
    "print(np.shape(xx))\n",
    "print(xx)"
   ]
  },
  {
   "cell_type": "code",
   "execution_count": 89,
   "metadata": {},
   "outputs": [
    {
     "data": {
      "text/plain": [
       "(100, 20)"
      ]
     },
     "execution_count": 89,
     "metadata": {},
     "output_type": "execute_result"
    }
   ],
   "source": [
    "np.shape(np.zeros([N, D ]))"
   ]
  },
  {
   "cell_type": "code",
   "execution_count": 137,
   "metadata": {},
   "outputs": [
    {
     "name": "stdout",
     "output_type": "stream",
     "text": [
      "[0. 0. 0. 0. 0. 0. 0. 0. 0. 0. 0. 0. 0. 0. 0. 1. 0. 0. 0. 0.]\n"
     ]
    }
   ],
   "source": [
    "N =200\n",
    "vehicles_num = 20\n",
    "tasks_num = 1\n",
    "D = tasks_num * vehicles_num\n",
    "\n",
    "# PSO main part\n",
    "# random sample to initialize partocles\n",
    "ones = np.eye(vehicles_num)\n",
    "twos = np.eye(vehicles_num) + np.eye(vehicles_num, k=1) + np.eye(vehicles_num, k=1-vehicles_num)\n",
    "sample = np.vstack((ones, twos))\n",
    "\n",
    "x = np.zeros([N, D ])\n",
    "\n",
    "for i in range(tasks_num):\n",
    "    \n",
    "    for j in range(N):\n",
    "        index = np.random.randint(np.shape(sample)[0])\n",
    "        x[j,i* vehicles_num : (i+1)*vehicles_num] = sample[index, :]\n",
    "print(x[10,:])"
   ]
  },
  {
   "cell_type": "code",
   "execution_count": 35,
   "metadata": {},
   "outputs": [
    {
     "data": {
      "text/plain": [
       "array([[14,  8, 15,  5,  6],\n",
       "       [ 8,  7, 10, 12,  9],\n",
       "       [ 8,  1, 10,  7,  1],\n",
       "       [15,  5, 17, 19,  5],\n",
       "       [ 0,  4, 15,  5, 17],\n",
       "       [ 7, 18, 14,  7, 12],\n",
       "       [18, 18,  2, 12, 15],\n",
       "       [ 1, 16, 11,  7, 15],\n",
       "       [11, 15,  7, 12, 14],\n",
       "       [17,  1, 18,  5, 16]])"
      ]
     },
     "execution_count": 35,
     "metadata": {},
     "output_type": "execute_result"
    }
   ],
   "source": [
    "np.random.randint(0, 20, [10, 5])"
   ]
  },
  {
   "cell_type": "code",
   "execution_count": 42,
   "metadata": {},
   "outputs": [
    {
     "ename": "TypeError",
     "evalue": "'list' object cannot be interpreted as an integer",
     "output_type": "error",
     "traceback": [
      "\u001b[0;31m---------------------------------------------------------------------------\u001b[0m",
      "\u001b[0;31mTypeError\u001b[0m                                 Traceback (most recent call last)",
      "Cell \u001b[0;32mIn[42], line 3\u001b[0m\n\u001b[1;32m      1\u001b[0m a \u001b[38;5;241m=\u001b[39m \u001b[38;5;28mlist\u001b[39m(\u001b[38;5;28mrange\u001b[39m(\u001b[38;5;241m10\u001b[39m))\n\u001b[1;32m      2\u001b[0m b \u001b[38;5;241m=\u001b[39m \u001b[38;5;28mlist\u001b[39m(\u001b[38;5;28mrange\u001b[39m(\u001b[38;5;241m10\u001b[39m,\u001b[38;5;241m20\u001b[39m))\n\u001b[0;32m----> 3\u001b[0m \u001b[38;5;28;01mfor\u001b[39;00m i, j \u001b[38;5;129;01min\u001b[39;00m \u001b[38;5;28;43menumerate\u001b[39;49m\u001b[43m(\u001b[49m\u001b[43ma\u001b[49m\u001b[43m,\u001b[49m\u001b[43mb\u001b[49m\u001b[43m)\u001b[49m:\n\u001b[1;32m      4\u001b[0m     \u001b[38;5;28mprint\u001b[39m(a,b)\n",
      "\u001b[0;31mTypeError\u001b[0m: 'list' object cannot be interpreted as an integer"
     ]
    }
   ],
   "source": [
    "a = list(range(10))\n",
    "b = list(range(10,20))\n",
    "for i, j in enumerate(a,b):\n",
    "    print(a,b)"
   ]
  },
  {
   "cell_type": "code",
   "execution_count": 24,
   "metadata": {},
   "outputs": [
    {
     "name": "stdout",
     "output_type": "stream",
     "text": [
      "2\n",
      "[[2]\n",
      " [1]\n",
      " [2]\n",
      " [2]\n",
      " [1]\n",
      " [2]\n",
      " [1]\n",
      " [1]\n",
      " [2]\n",
      " [1]]\n"
     ]
    }
   ],
   "source": [
    "x = np.random.randint(0, 2, [10, 1])+1\n",
    "\n",
    "print(x[2,0])\n",
    "print(x)"
   ]
  },
  {
   "cell_type": "code",
   "execution_count": 20,
   "metadata": {},
   "outputs": [
    {
     "data": {
      "text/plain": [
       "7.678365115572184"
      ]
     },
     "execution_count": 20,
     "metadata": {},
     "output_type": "execute_result"
    }
   ],
   "source": [
    "random.uniform(-10, 10)"
   ]
  },
  {
   "cell_type": "code",
   "execution_count": 10,
   "metadata": {},
   "outputs": [
    {
     "name": "stdout",
     "output_type": "stream",
     "text": [
      "10\n",
      "yes 1\n",
      "yes 2\n",
      "yes 3\n",
      "yes 4\n",
      "yes 5\n",
      "yes 6\n",
      "yes 7\n",
      "yes 8\n",
      "yes 9\n",
      "yes 10\n",
      "[<utils.Task object at 0x115ccf290>, <utils.Task object at 0x11580f170>, <utils.Task object at 0x115d1f5f0>, <utils.Task object at 0x115d1f860>, <utils.Task object at 0x115d1fef0>, <utils.Task object at 0x115d1d700>, <utils.Task object at 0x115d1fad0>, <utils.Task object at 0x115d1ff20>, <utils.Task object at 0x115d1ffb0>, <utils.Task object at 0x115d1fda0>] 10\n"
     ]
    }
   ],
   "source": [
    "tasks = [Task(tid=1+k, curr_time=0, generated_vid = 0) for k in range(10)]\n",
    "print(len(tasks))\n",
    "remove_list = []\n",
    "\n",
    "for tk in tasks:\n",
    "    if tk.generated_vid==0:\n",
    "        print(\"yes\", tk.tid)\n",
    "        remove_list.append(tk)\n",
    "\n",
    "# for tk in remove_list:\n",
    "#     tasks.remove(tk)\n",
    "\n",
    "print(tasks, len(tasks))"
   ]
  },
  {
   "cell_type": "code",
   "execution_count": 20,
   "metadata": {},
   "outputs": [
    {
     "name": "stdout",
     "output_type": "stream",
     "text": [
      "task number: 10\n",
      "0\n",
      "2\n",
      "4\n",
      "6\n",
      "8\n",
      "task number: 5\n"
     ]
    }
   ],
   "source": [
    "tasks = [Task(tid=k, curr_time=0, generated_vid = 0) for k in range(10)]\n",
    "print('task number:',len(tasks))\n",
    "\n",
    "for tk in tasks:\n",
    "    print(tk.tid)\n",
    "    tasks.remove(tk)\n",
    "    # print(tk.tid)\n",
    "print('task number:',len(tasks))"
   ]
  },
  {
   "cell_type": "code",
   "execution_count": 22,
   "metadata": {},
   "outputs": [
    {
     "name": "stdout",
     "output_type": "stream",
     "text": [
      "1\n"
     ]
    }
   ],
   "source": [
    "a = 10\n",
    "\n",
    "if a > 1:\n",
    "    print('1')\n",
    "elif a >2:\n",
    "    print('2')\n",
    "else:\n",
    "    print('3')"
   ]
  },
  {
   "cell_type": "code",
   "execution_count": 5,
   "metadata": {},
   "outputs": [
    {
     "name": "stdout",
     "output_type": "stream",
     "text": [
      "0\n"
     ]
    }
   ],
   "source": [
    "Vehicles = []\n",
    "for vid in range(30):\n",
    "            Vehicles.append(ShareCompServer(vid, capacity=10))\n",
    "print(Vehicles[0].vid)"
   ]
  },
  {
   "cell_type": "code",
   "execution_count": 15,
   "metadata": {},
   "outputs": [
    {
     "name": "stdout",
     "output_type": "stream",
     "text": [
      "[0, 1, 2, 3, 4, 5, 6, 7, 8] 3.409385681152344e-05 3.814697265625e-05\n",
      "1\n"
     ]
    }
   ],
   "source": [
    "a = list(range(10))\n",
    "b = ['1']\n",
    "\n",
    "start_time = time.time()\n",
    "a.remove(9)\n",
    "useage_time = time.time()-start_time\n",
    "\n",
    "start_time = time.time()\n",
    "try:\n",
    "    a.remove(9)\n",
    "except:\n",
    "    pass\n",
    "tryuseage_time = time.time()-start_time\n",
    "print(a, useage_time, tryuseage_time)\n",
    "if b:\n",
    "    print(1)\n",
    "else:\n",
    "    print(2)"
   ]
  },
  {
   "cell_type": "code",
   "execution_count": 59,
   "metadata": {},
   "outputs": [
    {
     "name": "stdout",
     "output_type": "stream",
     "text": [
      "14\n",
      "[0.6065306597126334, 0.9097959895689501, 0.9856123220330293, 0.9982483774437092, 0.9998278843700442, 0.9999858350626777, 0.9999989976203971, 0.9999999378030914, 0.9999999965645098, 0.999999999829033, 0.9999999999922592, 0.9999999999996786, 0.9999999999999877, 0.9999999999999996, 1.0]\n",
      "15\n"
     ]
    }
   ],
   "source": [
    "l = 0.5\n",
    "n = 0\n",
    "cdf = 0\n",
    "cdf_list = []\n",
    "\n",
    "while 1:\n",
    "    # print(n)\n",
    "    # prob = l**n*math.exp(-l)/math.factorial(n)\n",
    "    prob = l**n/math.factorial(n)*math.exp(-l)\n",
    "    cdf += prob\n",
    "    cdf_list.append(cdf)\n",
    "    # print(prob)\n",
    "    # print(l**n*math.exp(l)/math.factorial(n))\n",
    "    if cdf >= 1 or (n > l and prob<=1e-16):\n",
    "        break\n",
    "    n+=1\n",
    "\n",
    "print(n)\n",
    "print(cdf_list)\n",
    "print(len(cdf_list))"
   ]
  },
  {
   "cell_type": "code",
   "execution_count": 181,
   "metadata": {},
   "outputs": [
    {
     "name": "stdout",
     "output_type": "stream",
     "text": [
      "7 0 6\n",
      "3 0 2\n",
      "1 2 2\n",
      "result: 1 2 2\n",
      "result: 2 2 2\n"
     ]
    }
   ],
   "source": [
    "target = 0.9\n",
    "\n",
    "left, right = 0, len(cdf_list) - 1\n",
    "while left < right:\n",
    "    mid = left + (right - left) // 2\n",
    "    if cdf_list[mid] < target:\n",
    "        left = mid + 1\n",
    "    elif cdf_list[mid] > target:\n",
    "        right = mid - 1\n",
    "\n",
    "mid = left + (right - left) // 2\n",
    "\n",
    "if cdf_list[mid] < target and target <= cdf_list[mid+1]:\n",
    "    mid+=1\n",
    "elif cdf_list[mid+1] < target:\n",
    "    mid+=2\n",
    "\n",
    "print('result:',mid, left, right)"
   ]
  },
  {
   "cell_type": "code",
   "execution_count": 8,
   "metadata": {},
   "outputs": [
    {
     "name": "stdout",
     "output_type": "stream",
     "text": [
      "ok 1 okok 2ok\n"
     ]
    }
   ],
   "source": [
    "a = 1\n",
    "b=2\n",
    "print('ok %s okok %sok' %(a,b))"
   ]
  },
  {
   "cell_type": "code",
   "execution_count": 7,
   "metadata": {},
   "outputs": [
    {
     "data": {
      "text/plain": [
       "1.5"
      ]
     },
     "execution_count": 7,
     "metadata": {},
     "output_type": "execute_result"
    }
   ],
   "source": [
    "statistics.mean([1,2])"
   ]
  }
 ],
 "metadata": {
  "kernelspec": {
   "display_name": "default",
   "language": "python",
   "name": "python3"
  },
  "language_info": {
   "codemirror_mode": {
    "name": "ipython",
    "version": 3
   },
   "file_extension": ".py",
   "mimetype": "text/x-python",
   "name": "python",
   "nbconvert_exporter": "python",
   "pygments_lexer": "ipython3",
   "version": "3.12.2"
  }
 },
 "nbformat": 4,
 "nbformat_minor": 2
}
