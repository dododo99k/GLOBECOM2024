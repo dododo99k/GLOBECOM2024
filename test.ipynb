{
 "cells": [
  {
   "cell_type": "code",
   "execution_count": 34,
   "metadata": {},
   "outputs": [],
   "source": [
    "import math\n",
    "import numpy as np\n",
    "from utils import Task"
   ]
  },
  {
   "cell_type": "code",
   "execution_count": 41,
   "metadata": {},
   "outputs": [
    {
     "name": "stdout",
     "output_type": "stream",
     "text": [
      "10\n",
      "yes 1\n",
      "yes 2\n",
      "yes 3\n",
      "yes 4\n",
      "yes 5\n",
      "yes 6\n",
      "yes 7\n",
      "yes 8\n",
      "yes 9\n",
      "yes 10\n",
      "[] 0\n"
     ]
    }
   ],
   "source": [
    "tasks = [Task(tid=1+k, curr_time=0, generated_vid = 0) for k in range(10)]\n",
    "print(len(tasks))\n",
    "remove_list = []\n",
    "\n",
    "for tk in tasks:\n",
    "    if tk.generated_vid==0:\n",
    "        print(\"yes\", tk.tid)\n",
    "        remove_list.append(tk)\n",
    "\n",
    "for tk in remove_list:\n",
    "    tasks.remove(tk)\n",
    "\n",
    "print(tasks, len(tasks))"
   ]
  },
  {
   "cell_type": "code",
   "execution_count": 59,
   "metadata": {},
   "outputs": [
    {
     "name": "stdout",
     "output_type": "stream",
     "text": [
      "14\n",
      "[0.6065306597126334, 0.9097959895689501, 0.9856123220330293, 0.9982483774437092, 0.9998278843700442, 0.9999858350626777, 0.9999989976203971, 0.9999999378030914, 0.9999999965645098, 0.999999999829033, 0.9999999999922592, 0.9999999999996786, 0.9999999999999877, 0.9999999999999996, 1.0]\n",
      "15\n"
     ]
    }
   ],
   "source": [
    "l = 0.5\n",
    "n = 0\n",
    "cdf = 0\n",
    "cdf_list = []\n",
    "\n",
    "while 1:\n",
    "    # print(n)\n",
    "    # prob = l**n*math.exp(-l)/math.factorial(n)\n",
    "    prob = l**n/math.factorial(n)*math.exp(-l)\n",
    "    cdf += prob\n",
    "    cdf_list.append(cdf)\n",
    "    # print(prob)\n",
    "    # print(l**n*math.exp(l)/math.factorial(n))\n",
    "    if cdf >= 1 or (n > l and prob<=1e-16):\n",
    "        break\n",
    "    n+=1\n",
    "\n",
    "print(n)\n",
    "print(cdf_list)\n",
    "print(len(cdf_list))"
   ]
  },
  {
   "cell_type": "code",
   "execution_count": 181,
   "metadata": {},
   "outputs": [
    {
     "name": "stdout",
     "output_type": "stream",
     "text": [
      "7 0 6\n",
      "3 0 2\n",
      "1 2 2\n",
      "result: 1 2 2\n",
      "result: 2 2 2\n"
     ]
    }
   ],
   "source": [
    "target = 0.9\n",
    "\n",
    "left, right = 0, len(cdf_list) - 1\n",
    "while left < right:\n",
    "    mid = left + (right - left) // 2\n",
    "    if cdf_list[mid] < target:\n",
    "        left = mid + 1\n",
    "    elif cdf_list[mid] > target:\n",
    "        right = mid - 1\n",
    "\n",
    "mid = left + (right - left) // 2\n",
    "\n",
    "if cdf_list[mid] < target and target <= cdf_list[mid+1]:\n",
    "    mid+=1\n",
    "elif cdf_list[mid+1] < target:\n",
    "    mid+=2\n",
    "\n",
    "print('result:',mid, left, right)"
   ]
  },
  {
   "cell_type": "code",
   "execution_count": 72,
   "metadata": {},
   "outputs": [
    {
     "name": "stdout",
     "output_type": "stream",
     "text": [
      "1\n"
     ]
    }
   ],
   "source": [
    "print(0+(2-0)//2)"
   ]
  },
  {
   "cell_type": "code",
   "execution_count": null,
   "metadata": {},
   "outputs": [],
   "source": []
  }
 ],
 "metadata": {
  "kernelspec": {
   "display_name": "default",
   "language": "python",
   "name": "python3"
  },
  "language_info": {
   "codemirror_mode": {
    "name": "ipython",
    "version": 3
   },
   "file_extension": ".py",
   "mimetype": "text/x-python",
   "name": "python",
   "nbconvert_exporter": "python",
   "pygments_lexer": "ipython3",
   "version": "3.12.2"
  }
 },
 "nbformat": 4,
 "nbformat_minor": 2
}
