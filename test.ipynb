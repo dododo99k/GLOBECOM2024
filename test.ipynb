{
 "cells": [
  {
   "cell_type": "code",
   "execution_count": 9,
   "metadata": {},
   "outputs": [],
   "source": [
    "import math, time, statistics\n",
    "import numpy as np\n",
    "from utils import Task\n",
    "from compute.aug_server import ShareCompServer  # vehicle server"
   ]
  },
  {
   "cell_type": "code",
   "execution_count": 10,
   "metadata": {},
   "outputs": [
    {
     "name": "stdout",
     "output_type": "stream",
     "text": [
      "10\n",
      "yes 1\n",
      "yes 2\n",
      "yes 3\n",
      "yes 4\n",
      "yes 5\n",
      "yes 6\n",
      "yes 7\n",
      "yes 8\n",
      "yes 9\n",
      "yes 10\n",
      "[<utils.Task object at 0x115ccf290>, <utils.Task object at 0x11580f170>, <utils.Task object at 0x115d1f5f0>, <utils.Task object at 0x115d1f860>, <utils.Task object at 0x115d1fef0>, <utils.Task object at 0x115d1d700>, <utils.Task object at 0x115d1fad0>, <utils.Task object at 0x115d1ff20>, <utils.Task object at 0x115d1ffb0>, <utils.Task object at 0x115d1fda0>] 10\n"
     ]
    }
   ],
   "source": [
    "tasks = [Task(tid=1+k, curr_time=0, generated_vid = 0) for k in range(10)]\n",
    "print(len(tasks))\n",
    "remove_list = []\n",
    "\n",
    "for tk in tasks:\n",
    "    if tk.generated_vid==0:\n",
    "        print(\"yes\", tk.tid)\n",
    "        remove_list.append(tk)\n",
    "\n",
    "# for tk in remove_list:\n",
    "#     tasks.remove(tk)\n",
    "\n",
    "print(tasks, len(tasks))"
   ]
  },
  {
   "cell_type": "code",
   "execution_count": 20,
   "metadata": {},
   "outputs": [
    {
     "name": "stdout",
     "output_type": "stream",
     "text": [
      "task number: 10\n",
      "0\n",
      "2\n",
      "4\n",
      "6\n",
      "8\n",
      "task number: 5\n"
     ]
    }
   ],
   "source": [
    "tasks = [Task(tid=k, curr_time=0, generated_vid = 0) for k in range(10)]\n",
    "print('task number:',len(tasks))\n",
    "\n",
    "for tk in tasks:\n",
    "    print(tk.tid)\n",
    "    tasks.remove(tk)\n",
    "    # print(tk.tid)\n",
    "print('task number:',len(tasks))"
   ]
  },
  {
   "cell_type": "code",
   "execution_count": 22,
   "metadata": {},
   "outputs": [
    {
     "name": "stdout",
     "output_type": "stream",
     "text": [
      "1\n"
     ]
    }
   ],
   "source": [
    "a = 10\n",
    "\n",
    "if a > 1:\n",
    "    print('1')\n",
    "elif a >2:\n",
    "    print('2')\n",
    "else:\n",
    "    print('3')"
   ]
  },
  {
   "cell_type": "code",
   "execution_count": 5,
   "metadata": {},
   "outputs": [
    {
     "name": "stdout",
     "output_type": "stream",
     "text": [
      "0\n"
     ]
    }
   ],
   "source": [
    "Vehicles = []\n",
    "for vid in range(30):\n",
    "            Vehicles.append(ShareCompServer(vid, capacity=10))\n",
    "print(Vehicles[0].vid)"
   ]
  },
  {
   "cell_type": "code",
   "execution_count": 15,
   "metadata": {},
   "outputs": [
    {
     "name": "stdout",
     "output_type": "stream",
     "text": [
      "[0, 1, 2, 3, 4, 5, 6, 7, 8] 3.409385681152344e-05 3.814697265625e-05\n",
      "1\n"
     ]
    }
   ],
   "source": [
    "a = list(range(10))\n",
    "b = ['1']\n",
    "\n",
    "start_time = time.time()\n",
    "a.remove(9)\n",
    "useage_time = time.time()-start_time\n",
    "\n",
    "start_time = time.time()\n",
    "try:\n",
    "    a.remove(9)\n",
    "except:\n",
    "    pass\n",
    "tryuseage_time = time.time()-start_time\n",
    "print(a, useage_time, tryuseage_time)\n",
    "if b:\n",
    "    print(1)\n",
    "else:\n",
    "    print(2)"
   ]
  },
  {
   "cell_type": "code",
   "execution_count": 59,
   "metadata": {},
   "outputs": [
    {
     "name": "stdout",
     "output_type": "stream",
     "text": [
      "14\n",
      "[0.6065306597126334, 0.9097959895689501, 0.9856123220330293, 0.9982483774437092, 0.9998278843700442, 0.9999858350626777, 0.9999989976203971, 0.9999999378030914, 0.9999999965645098, 0.999999999829033, 0.9999999999922592, 0.9999999999996786, 0.9999999999999877, 0.9999999999999996, 1.0]\n",
      "15\n"
     ]
    }
   ],
   "source": [
    "l = 0.5\n",
    "n = 0\n",
    "cdf = 0\n",
    "cdf_list = []\n",
    "\n",
    "while 1:\n",
    "    # print(n)\n",
    "    # prob = l**n*math.exp(-l)/math.factorial(n)\n",
    "    prob = l**n/math.factorial(n)*math.exp(-l)\n",
    "    cdf += prob\n",
    "    cdf_list.append(cdf)\n",
    "    # print(prob)\n",
    "    # print(l**n*math.exp(l)/math.factorial(n))\n",
    "    if cdf >= 1 or (n > l and prob<=1e-16):\n",
    "        break\n",
    "    n+=1\n",
    "\n",
    "print(n)\n",
    "print(cdf_list)\n",
    "print(len(cdf_list))"
   ]
  },
  {
   "cell_type": "code",
   "execution_count": 181,
   "metadata": {},
   "outputs": [
    {
     "name": "stdout",
     "output_type": "stream",
     "text": [
      "7 0 6\n",
      "3 0 2\n",
      "1 2 2\n",
      "result: 1 2 2\n",
      "result: 2 2 2\n"
     ]
    }
   ],
   "source": [
    "target = 0.9\n",
    "\n",
    "left, right = 0, len(cdf_list) - 1\n",
    "while left < right:\n",
    "    mid = left + (right - left) // 2\n",
    "    if cdf_list[mid] < target:\n",
    "        left = mid + 1\n",
    "    elif cdf_list[mid] > target:\n",
    "        right = mid - 1\n",
    "\n",
    "mid = left + (right - left) // 2\n",
    "\n",
    "if cdf_list[mid] < target and target <= cdf_list[mid+1]:\n",
    "    mid+=1\n",
    "elif cdf_list[mid+1] < target:\n",
    "    mid+=2\n",
    "\n",
    "print('result:',mid, left, right)"
   ]
  },
  {
   "cell_type": "code",
   "execution_count": 8,
   "metadata": {},
   "outputs": [
    {
     "name": "stdout",
     "output_type": "stream",
     "text": [
      "ok 1 okok 2ok\n"
     ]
    }
   ],
   "source": [
    "a = 1\n",
    "b=2\n",
    "print('ok %s okok %sok' %(a,b))"
   ]
  },
  {
   "cell_type": "code",
   "execution_count": 7,
   "metadata": {},
   "outputs": [
    {
     "data": {
      "text/plain": [
       "1.5"
      ]
     },
     "execution_count": 7,
     "metadata": {},
     "output_type": "execute_result"
    }
   ],
   "source": [
    "statistics.mean([1,2])"
   ]
  }
 ],
 "metadata": {
  "kernelspec": {
   "display_name": "default",
   "language": "python",
   "name": "python3"
  },
  "language_info": {
   "codemirror_mode": {
    "name": "ipython",
    "version": 3
   },
   "file_extension": ".py",
   "mimetype": "text/x-python",
   "name": "python",
   "nbconvert_exporter": "python",
   "pygments_lexer": "ipython3",
   "version": "3.12.2"
  }
 },
 "nbformat": 4,
 "nbformat_minor": 2
}
